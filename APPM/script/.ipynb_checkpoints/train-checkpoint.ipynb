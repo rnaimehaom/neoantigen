{
 "cells": [
  {
   "cell_type": "code",
   "execution_count": 1,
   "id": "6e14ff64-edf3-49fb-96af-6deae5540300",
   "metadata": {},
   "outputs": [
    {
     "name": "stdout",
     "output_type": "stream",
     "text": [
      "Tensorflow version 2.7.0\n",
      "Num GPUs Available:  1\n",
      "Test set is  A3101\n"
     ]
    },
    {
     "name": "stderr",
     "output_type": "stream",
     "text": [
      "2022-03-18 17:15:06.486315: I tensorflow/stream_executor/cuda/cuda_gpu_executor.cc:939] successful NUMA node read from SysFS had negative value (-1), but there must be at least one NUMA node, so returning NUMA node zero\n",
      "2022-03-18 17:15:06.531349: I tensorflow/stream_executor/cuda/cuda_gpu_executor.cc:939] successful NUMA node read from SysFS had negative value (-1), but there must be at least one NUMA node, so returning NUMA node zero\n",
      "2022-03-18 17:15:06.531914: I tensorflow/stream_executor/cuda/cuda_gpu_executor.cc:939] successful NUMA node read from SysFS had negative value (-1), but there must be at least one NUMA node, so returning NUMA node zero\n"
     ]
    }
   ],
   "source": [
    "from __future__ import division, print_function, absolute_import\n",
    "import tensorflow as tf\n",
    "import numpy as np\n",
    "import pandas as pd\n",
    "import random as rnd\n",
    "import math, os, time, sys, re, datetime\n",
    "from datetime import timedelta\n",
    "from sklearn.metrics import roc_auc_score, roc_curve, auc\n",
    "from scipy import stats\n",
    "\n",
    "print(\"Tensorflow version \" + tf.__version__)\n",
    "print(\"Num GPUs Available: \", len(tf.config.list_physical_devices('GPU')))\n",
    "\n",
    "#testset = 'A0202'\n",
    "#INPUTS: python DLMHC.py 0 A0202\n",
    "#testset = sys.argv[2] # e.g. takes A0202 as input allele name\n",
    "testset = \"B4402\"\n",
    "\n",
    "print(\"Test set is \", testset)\n",
    "runindx = 0 \n",
    "\n",
    "###all the possible sequence letters\n",
    "allSequences = 'ACEDGFIHKMLNQPSRTWVYZ'\n",
    "# Establish a mapping from letters to integers\n",
    "char2int = dict((c, i) for i, c in enumerate(allSequences))"
   ]
  },
  {
   "cell_type": "code",
   "execution_count": 2,
   "id": "b9f78aee-9908-476e-86c3-5c2effea81e8",
   "metadata": {},
   "outputs": [],
   "source": [
    "def getdata_onehot(datafile):   #build testing matrix\n",
    "    ### READ in test dataset\n",
    "    \"\"\" Reads the test data file and extracts allele subtype,\n",
    "            peptide length, and measurement type. Returns these information\n",
    "            along with the peptide sequence and target values.\n",
    "    \"\"\"\n",
    "    #train数据载入\n",
    "    import os\n",
    "    traindata = os.path.join(\"./../DATA\", \"train_data\", datafile )\n",
    "    print(\"traindata name: \", traindata)\n",
    "    df_train = pd.read_csv(traindata, header=0)\n",
    "    df_train = df_train[df_train.Peptide.str.contains('X') == False]\n",
    "    df_train = df_train[df_train.Peptide.str.contains('B') == False]\n",
    "    df_train = df_train[df_train.Peptide.str.contains('U') == False]\n",
    "    #eg.df_train = pd.read_csv('./DATA/train_data/A0202',sep=\"\\t\")\n",
    "    \n",
    "    #下采样\n",
    "    new_df_0 = df_train.loc[df_train['BindingCategory']== 0].sample(frac = 1)\n",
    "    #上采样\n",
    "    df_1_list = []\n",
    "    for i in range(4):\n",
    "        df_1_list.append(df_train.loc[df_train['BindingCategory']== 1])\n",
    "        new_df_1 = pd.concat(df_1_list)\n",
    "    new_df_train = pd.concat([new_df_0,new_df_1])\n",
    "    new_df_train = new_df_train.sample(frac = 1.0) #shuffle\n",
    "\n",
    "\n",
    "    #X_train--补齐11mer--one_hot_matrix\n",
    "    train_data=transformEL(new_df_train)\n",
    "    trainMatrix = np.empty((0, 11,len(allSequences)), int)      \n",
    "    for num in range(len(train_data.Peptide)):\n",
    "        if num%1000 == 0:\n",
    "            print(train_data.Peptide.iloc[num],num)\n",
    "        trainMatrix = np.append(trainMatrix, [Pept_OneHotMap(train_data.Peptide.iloc[num])], axis=0)\n",
    "    allele_name = train_data['HLA'][0]\n",
    "    assert (trainMatrix.shape[0] == train_data.shape[0])\n",
    "\n",
    "    #test数据载入\n",
    "    testdata = os.path.join(\"./../DATA\", \"test_data\", datafile )\n",
    "    df_test = pd.read_csv(testdata, header=0)\n",
    "    df_test = df_test[df_test.Peptide.str.contains('X') == False]\n",
    "    df_test = df_test[df_test.Peptide.str.contains('B') == False]\n",
    "    df_test = df_test[df_test.Peptide.str.contains('U') == False]\n",
    "    #eg.df_test = pd.read_csv('./DATA/test_data/A0202',sep=\"\\t\")\n",
    "\n",
    "    #X_test--补齐11mer--one_hot_matrix\n",
    "    test_data=transformEL(df_test)\n",
    "    testMatrix = np.empty((0, 11,len(allSequences)), int)      \n",
    "    for num in range(len(test_data.Peptide)):\n",
    "        if num%1000 == 0:\n",
    "            print(test_data.Peptide.iloc[num],num)\n",
    "        testMatrix = np.append(testMatrix, [Pept_OneHotMap(test_data.Peptide.iloc[num])], axis=0)\n",
    "    assert (testMatrix.shape[0] == test_data.shape[0])\n",
    "\n",
    "    Y_train = train_data.BindingCategory\n",
    "    Y_test = test_data.BindingCategory \n",
    "    #\n",
    "    Y_train = Y_train.reset_index(drop=True)\n",
    "    Y_test = Y_test.reset_index(drop=True)\n",
    "    #\n",
    "    trainlen = len(trainMatrix)\n",
    "    ss1 = list(range(trainlen))\n",
    "    rnd.shuffle(ss1)    #\n",
    "    \n",
    "    # combine training and test datasets\n",
    "    datasets={}\n",
    "    datasets['X_train'] = trainMatrix\n",
    "    datasets['Y_train'] = Y_train.values #traindata.BindingCategory.as_matrix()\n",
    "    datasets['X_test'] = testMatrix\n",
    "    datasets['Y_test'] = Y_test.values    \n",
    "\n",
    "    return datasets\n",
    "\n",
    "def Pept_OneHotMap(peptideSeq):\n",
    "    \"\"\" maps amino acid into its numerical index\n",
    "    USAGE\n",
    "    Pept_OneHotMap('A')\n",
    "    array([[1, 0, 0, 0, 0, 0, 0, 0, 0, 0, 0, 0, 0, 0, 0, 0, 0, 0, 0, 0, 0]])\n",
    "    \"\"\"\n",
    "    # integer encode input data\n",
    "    integer_encoded=[char2int[char] for char in peptideSeq]\n",
    "    # one hot encode\n",
    "    onehot_encoded = list()\n",
    "    for value in integer_encoded:\n",
    "    \tletter = [0 for _ in range(len(allSequences))]\n",
    "    \tletter[value] = 1\n",
    "    \tonehot_encoded.append(letter)\n",
    "    return np.asarray(onehot_encoded)\n",
    "\n",
    "def transformEL(dataset):\n",
    "    dataset = dataset.reset_index(drop=True)\n",
    "    peptide=dataset.Peptide\n",
    "    peptide2list=peptide.tolist()\n",
    "    for i in range(len(peptide)):\n",
    "        if len(peptide2list[i]) < 11:\n",
    "            n1 = len(peptide2list[i]) // 2\n",
    "            n2 = 11 - len(peptide2list[i])\n",
    "            peptide2list[i] = peptide2list[i][:n1] + 'Z'*n2 + peptide2list[i][n1:]     #将小于11个氨基酸的peptide在中间插空补齐\n",
    "        else:\n",
    "            peptide2list[i] = peptide2list[i][:11]\n",
    "\n",
    "    del dataset['Peptide']\n",
    "    peptides = pd.DataFrame(peptide2list,columns=['Peptide'])\n",
    "    dataset.insert(0,'Peptide',peptides.pop('Peptide'))\n",
    "    return dataset\n",
    "\n",
    "def binary2onehot(yy):\n",
    "    yy2= np.zeros((len(yy),2), dtype=int) #yy2.shape #(10547, 2)\n",
    "    for num in range(len(yy)):\n",
    "        if yy[num]==1:\n",
    "            yy2[num,0]=1\n",
    "        else:\n",
    "            yy2[num,1]=1\n",
    "    return yy2"
   ]
  },
  {
   "cell_type": "code",
   "execution_count": 3,
   "id": "64548298-9183-41a6-bb0c-9e9fb609a0be",
   "metadata": {},
   "outputs": [
    {
     "name": "stdout",
     "output_type": "stream",
     "text": [
      "traindata name:  ./../DATA/train_data/A3101\n",
      "NCSEZZRYEAR 0\n",
      "TLAELYGAKEP 1000\n",
      "AVVPGTLLLFR 2000\n",
      "EQASSGSQIPF 3000\n",
      "RLWVZZQLMRE 4000\n",
      "TVINZZEACPG 5000\n",
      "GVQVSZSRIFM 6000\n",
      "AADPRALTVKF 7000\n",
      "SPPEEZILEPP 8000\n",
      "QYQDQHSLHTE 9000\n",
      "RALGAKKFYGR 10000\n",
      "LSGLAZLSGWG 11000\n",
      "EKIQLZKRVFG 12000\n",
      "DKKCILFRIKG 13000\n",
      "PRMAATQKLVK 14000\n",
      "VIKFSDSNYMR 15000\n",
      "CAAAGZSRTPE 16000\n",
      "NAIIDZPLIYA 17000\n",
      "QLSEDZFDPDE 18000\n",
      "TWASISPHIGV 19000\n",
      "GLAGTPGRAGR 20000\n",
      "SHGKRYRVPSD 21000\n",
      "QGNRZZLFVGR 22000\n",
      "STTHZZLMTGK 23000\n",
      "TGPDFSFLPGL 24000\n",
      "ILFRGZVGMVA 25000\n",
      "KLDDKSYNSSP 26000\n",
      "PGELZZTAESP 27000\n",
      "LWTFPSPGWPE 28000\n",
      "RLLASKSLLNR 29000\n",
      "AYYNYEDLPKT 30000\n",
      "NKFIPZLSEPA 31000\n",
      "TYEEZZRDAWV 32000\n",
      "QQALSZNMKTG 33000\n",
      "RPGVCZVRRSF 34000\n",
      "NTHPZZTVSYY 35000\n",
      "RSGKPZWWLND 36000\n",
      "RNSIZZQFTDG 37000\n",
      "SAECZZILSGN 38000\n",
      "IAVKRZKTTET 39000\n",
      "VIQYZZMRRMY 40000\n",
      "RTGSZZFHIRR 41000\n",
      "LSDDCZKIQDG 42000\n",
      "QMLCYNRRIPI 43000\n",
      "HTGKZZRPYEC 44000\n",
      "AEDYZZTESLL 45000\n",
      "SHPYSZVETPY 46000\n",
      "GSRYFZALVER 0\n",
      "QEDGPQVAGSN 1000\n",
      "MLFEZZFIDRC 2000\n",
      "AVRVKARDEGR 3000\n",
      "GSSGVZGLTAA 4000\n",
      "LTEDZZRQGRW 5000\n",
      "VDRCSLQPCRN 6000\n"
     ]
    }
   ],
   "source": [
    "data=getdata_onehot(datafile=testset)"
   ]
  },
  {
   "cell_type": "code",
   "execution_count": 4,
   "id": "a60e157b-63b0-4cf2-a529-32a74b0042e9",
   "metadata": {},
   "outputs": [
    {
     "name": "stdout",
     "output_type": "stream",
     "text": [
      "X_Train size  (46632, 11, 21)\n",
      "Y_Train size  (46632,)\n",
      "Train data value=1  6716\n",
      "X_Test size  (6200, 11, 21)\n",
      "Y_Test size  (6200,)\n",
      "Test data value=1  200\n"
     ]
    }
   ],
   "source": [
    "shuffle_ = np.arange(len(data['Y_train']))\n",
    "np.random.shuffle(shuffle_)\n",
    "data['Y_train']=data['Y_train'][shuffle_]\n",
    "data['X_train']=data['X_train'][shuffle_]\n",
    "\n",
    "print(\"X_Train size \", data['X_train'].shape)\n",
    "print(\"Y_Train size \", data['Y_train'].shape)\n",
    "print(\"Train data value=1 \", np.sum(data['Y_train']==1))\n",
    "print(\"X_Test size \" , data['X_test'].shape)\n",
    "print(\"Y_Test size \" , data['Y_test'].shape)\n",
    "print(\"Test data value=1 \", np.sum(data['Y_test']==1))\n",
    "\n",
    "\n",
    "Y_train_labels = binary2onehot(data['Y_train']) # binary output converted into two classes\n",
    "Y_test_labels = binary2onehot(data['Y_test'])\n",
    "X_train_data = data['X_train']  #already one hot encoded\n",
    "X_test_data = data['X_test']"
   ]
  },
  {
   "cell_type": "code",
   "execution_count": 5,
   "id": "49ff0459-3fd6-4a54-b938-66067458ed42",
   "metadata": {},
   "outputs": [
    {
     "name": "stdout",
     "output_type": "stream",
     "text": [
      "X_Train size  (46632, 11, 21)\n",
      "Y_Train size  (46632, 2)\n",
      "X_Test size  (6200, 11, 21)\n",
      "Y_Test size  (6200, 2) \n",
      "\n"
     ]
    }
   ],
   "source": [
    "# save proceed data to txt\n",
    "print(\"X_Train size \", X_train_data.shape)\n",
    "print(\"Y_Train size \", Y_train_labels.shape)\n",
    "print(\"X_Test size \" , X_test_data.shape)\n",
    "print(\"Y_Test size \" , Y_test_labels.shape, \"\\n\")\n",
    "\n",
    "X_train_data_reshape = X_train_data.reshape(X_train_data.shape[0], -1)\n",
    "X_test_data_reshape = X_test_data.reshape(X_test_data.shape[0], -1)\n",
    "np.savetxt(\"data_train.txt\", X_train_data_reshape, fmt='%i')\n",
    "np.savetxt(\"data_test.txt\", X_test_data_reshape, fmt='%i')\n",
    "\n",
    "np.savetxt(\"data_train_labels.txt\", Y_train_labels, fmt='%i')\n",
    "np.savetxt(\"data_test_labels.txt\", Y_test_labels, fmt='%i')\n",
    "\n"
   ]
  },
  {
   "cell_type": "code",
   "execution_count": 6,
   "id": "1ec6f13a-3c5c-4e21-a196-92580bced8ab",
   "metadata": {},
   "outputs": [
    {
     "name": "stdout",
     "output_type": "stream",
     "text": [
      "X_Train size  (46632, 11, 21)\n",
      "Y_Train size  (46632, 2)\n",
      "X_Test size  (6200, 11, 21)\n",
      "Y_Test size  (6200, 2)\n",
      "finish loading\n"
     ]
    }
   ],
   "source": [
    "# from txt to numpy\n",
    "X_train_data = np.loadtxt(\"data_train.txt\")\n",
    "X_train_data = X_train_data.reshape(X_train_data.shape[0], 11, 21)\n",
    "X_test_data = np.loadtxt(\"data_test.txt\")\n",
    "X_test_data = X_test_data.reshape(X_test_data.shape[0], 11, 21)\n",
    "Y_train_labels = np.loadtxt(\"data_train_labels.txt\")\n",
    "Y_test_labels = np.loadtxt(\"data_test_labels.txt\")\n",
    "\n",
    "print(\"X_Train size \", X_train_data.shape)\n",
    "print(\"Y_Train size \", Y_train_labels.shape)\n",
    "print(\"X_Test size \" , X_test_data.shape)\n",
    "print(\"Y_Test size \" , Y_test_labels.shape)\n",
    "\n",
    "print (\"finish loading\")"
   ]
  },
  {
   "cell_type": "code",
   "execution_count": null,
   "id": "48800208-5f64-4355-a6b3-f0b1447da884",
   "metadata": {},
   "outputs": [],
   "source": []
  },
  {
   "cell_type": "code",
   "execution_count": 7,
   "id": "fe9e8391-99ed-4496-98d2-28131421c89e",
   "metadata": {},
   "outputs": [
    {
     "name": "stdout",
     "output_type": "stream",
     "text": [
      "Model: \"sequential\"\n",
      "_________________________________________________________________\n",
      " Layer (type)                Output Shape              Param #   \n",
      "=================================================================\n",
      " conv2d (Conv2D)             (None, 10, 20, 32)        160       \n",
      "                                                                 \n",
      " conv2d_1 (Conv2D)           (None, 9, 19, 64)         8256      \n",
      "                                                                 \n",
      " conv2d_2 (Conv2D)           (None, 8, 18, 64)         16448     \n",
      "                                                                 \n",
      " flatten (Flatten)           (None, 9216)              0         \n",
      "                                                                 \n",
      " dense (Dense)               (None, 64)                589888    \n",
      "                                                                 \n",
      " dense_1 (Dense)             (None, 2)                 130       \n",
      "                                                                 \n",
      "=================================================================\n",
      "Total params: 614,882\n",
      "Trainable params: 614,882\n",
      "Non-trainable params: 0\n",
      "_________________________________________________________________\n"
     ]
    },
    {
     "name": "stderr",
     "output_type": "stream",
     "text": [
      "2022-03-18 17:33:02.725609: I tensorflow/core/platform/cpu_feature_guard.cc:151] This TensorFlow binary is optimized with oneAPI Deep Neural Network Library (oneDNN) to use the following CPU instructions in performance-critical operations:  AVX2 AVX512F FMA\n",
      "To enable them in other operations, rebuild TensorFlow with the appropriate compiler flags.\n",
      "2022-03-18 17:33:02.726749: I tensorflow/stream_executor/cuda/cuda_gpu_executor.cc:939] successful NUMA node read from SysFS had negative value (-1), but there must be at least one NUMA node, so returning NUMA node zero\n",
      "2022-03-18 17:33:02.726874: I tensorflow/stream_executor/cuda/cuda_gpu_executor.cc:939] successful NUMA node read from SysFS had negative value (-1), but there must be at least one NUMA node, so returning NUMA node zero\n",
      "2022-03-18 17:33:02.726955: I tensorflow/stream_executor/cuda/cuda_gpu_executor.cc:939] successful NUMA node read from SysFS had negative value (-1), but there must be at least one NUMA node, so returning NUMA node zero\n",
      "2022-03-18 17:33:03.241566: I tensorflow/stream_executor/cuda/cuda_gpu_executor.cc:939] successful NUMA node read from SysFS had negative value (-1), but there must be at least one NUMA node, so returning NUMA node zero\n",
      "2022-03-18 17:33:03.241684: I tensorflow/stream_executor/cuda/cuda_gpu_executor.cc:939] successful NUMA node read from SysFS had negative value (-1), but there must be at least one NUMA node, so returning NUMA node zero\n",
      "2022-03-18 17:33:03.241764: I tensorflow/stream_executor/cuda/cuda_gpu_executor.cc:939] successful NUMA node read from SysFS had negative value (-1), but there must be at least one NUMA node, so returning NUMA node zero\n",
      "2022-03-18 17:33:03.241847: I tensorflow/core/common_runtime/gpu/gpu_device.cc:1525] Created device /job:localhost/replica:0/task:0/device:GPU:0 with 5280 MB memory:  -> device: 0, name: NVIDIA GeForce RTX 3070, pci bus id: 0000:01:00.0, compute capability: 8.6\n"
     ]
    }
   ],
   "source": [
    "from tensorflow.keras import datasets, layers, models\n",
    "import matplotlib.pyplot as plt\n",
    "\n",
    "# simple model\n",
    "model = models.Sequential()\n",
    "model.add(layers.Conv2D(32, (2, 2), activation='relu', input_shape=(11, 21, 1)))\n",
    "model.add(layers.Conv2D(64, (2, 2), activation='relu'))\n",
    "#model.add(layers.MaxPooling2D((2, 2)))\n",
    "model.add(layers.Conv2D(64, (2, 2), activation='relu'))\n",
    "\n",
    "model.add(layers.Flatten())\n",
    "model.add(layers.Dense(64, activation='relu'))\n",
    "model.add(layers.Dense(2))\n",
    "model.summary()\n"
   ]
  },
  {
   "cell_type": "code",
   "execution_count": 8,
   "id": "7c7124fb-1ccb-4737-9964-5806e5973940",
   "metadata": {},
   "outputs": [
    {
     "name": "stdout",
     "output_type": "stream",
     "text": [
      "Epoch 1/10\n"
     ]
    },
    {
     "name": "stderr",
     "output_type": "stream",
     "text": [
      "2022-03-18 17:33:07.779917: I tensorflow/stream_executor/cuda/cuda_dnn.cc:366] Loaded cuDNN version 8200\n",
      "2022-03-18 17:33:09.476512: I tensorflow/stream_executor/cuda/cuda_blas.cc:1774] TensorFloat-32 will be used for the matrix multiplication. This will only be logged once.\n"
     ]
    },
    {
     "name": "stdout",
     "output_type": "stream",
     "text": [
      "1166/1166 [==============================] - 6s 2ms/step - loss: 0.1111 - acc: 0.9591 - f1_m: 0.9233 - precision_m: 0.9852 - recall_m: 0.8709 - val_loss: 0.0872 - val_acc: 0.9696 - val_f1_m: 0.9329 - val_precision_m: 0.9930 - val_recall_m: 0.8814\n",
      "Epoch 2/10\n",
      "1166/1166 [==============================] - 2s 2ms/step - loss: 0.0741 - acc: 0.9730 - f1_m: 0.9435 - precision_m: 0.9935 - recall_m: 0.8998 - val_loss: 0.0845 - val_acc: 0.9674 - val_f1_m: 0.9489 - val_precision_m: 0.9924 - val_recall_m: 0.9103\n",
      "Epoch 3/10\n",
      "1166/1166 [==============================] - 2s 2ms/step - loss: 0.0521 - acc: 0.9818 - f1_m: 0.9531 - precision_m: 0.9950 - recall_m: 0.9157 - val_loss: 0.0607 - val_acc: 0.9766 - val_f1_m: 0.9505 - val_precision_m: 0.9947 - val_recall_m: 0.9114\n",
      "Epoch 4/10\n",
      "1166/1166 [==============================] - 2s 2ms/step - loss: 0.0307 - acc: 0.9893 - f1_m: 0.9596 - precision_m: 0.9980 - recall_m: 0.9251 - val_loss: 0.0441 - val_acc: 0.9843 - val_f1_m: 0.9575 - val_precision_m: 0.9965 - val_recall_m: 0.9225\n",
      "Epoch 5/10\n",
      "1166/1166 [==============================] - 2s 2ms/step - loss: 0.0150 - acc: 0.9953 - f1_m: 0.9690 - precision_m: 0.9991 - recall_m: 0.9416 - val_loss: 0.0415 - val_acc: 0.9870 - val_f1_m: 0.9599 - val_precision_m: 0.9966 - val_recall_m: 0.9269\n",
      "Epoch 6/10\n",
      "1166/1166 [==============================] - 2s 2ms/step - loss: 0.0097 - acc: 0.9970 - f1_m: 0.9709 - precision_m: 0.9995 - recall_m: 0.9447 - val_loss: 0.0436 - val_acc: 0.9888 - val_f1_m: 0.9664 - val_precision_m: 0.9963 - val_recall_m: 0.9392\n",
      "Epoch 7/10\n",
      "1166/1166 [==============================] - 2s 2ms/step - loss: 0.0061 - acc: 0.9979 - f1_m: 0.9743 - precision_m: 0.9998 - recall_m: 0.9509 - val_loss: 0.0730 - val_acc: 0.9839 - val_f1_m: 0.9675 - val_precision_m: 0.9944 - val_recall_m: 0.9430\n",
      "Epoch 8/10\n",
      "1166/1166 [==============================] - 2s 2ms/step - loss: 0.0055 - acc: 0.9984 - f1_m: 0.9786 - precision_m: 0.9998 - recall_m: 0.9590 - val_loss: 0.0442 - val_acc: 0.9907 - val_f1_m: 0.9675 - val_precision_m: 0.9968 - val_recall_m: 0.9407\n",
      "Epoch 9/10\n",
      "1166/1166 [==============================] - 2s 2ms/step - loss: 0.0051 - acc: 0.9986 - f1_m: 0.9789 - precision_m: 0.9998 - recall_m: 0.9595 - val_loss: 0.0420 - val_acc: 0.9890 - val_f1_m: 0.9693 - val_precision_m: 0.9974 - val_recall_m: 0.9436\n",
      "Epoch 10/10\n",
      "1166/1166 [==============================] - 2s 2ms/step - loss: 0.0035 - acc: 0.9990 - f1_m: 0.9715 - precision_m: 0.9998 - recall_m: 0.9459 - val_loss: 0.0468 - val_acc: 0.9897 - val_f1_m: 0.9566 - val_precision_m: 0.9971 - val_recall_m: 0.9205\n"
     ]
    }
   ],
   "source": [
    "from keras import backend as K\n",
    "\n",
    "def recall_m(y_true, y_pred):\n",
    "    true_positives = K.sum(K.round(K.clip(y_true * y_pred, 0, 1)))\n",
    "    possible_positives = K.sum(K.round(K.clip(y_true, 0, 1)))\n",
    "    recall = true_positives / (possible_positives + K.epsilon())\n",
    "    return recall\n",
    "\n",
    "def precision_m(y_true, y_pred):\n",
    "    true_positives = K.sum(K.round(K.clip(y_true * y_pred, 0, 1)))\n",
    "    predicted_positives = K.sum(K.round(K.clip(y_pred, 0, 1)))\n",
    "    precision = true_positives / (predicted_positives + K.epsilon())\n",
    "    return precision\n",
    "\n",
    "def f1_m(y_true, y_pred):\n",
    "    precision = precision_m(y_true, y_pred)\n",
    "    recall = recall_m(y_true, y_pred)\n",
    "    return 2*((precision*recall)/(precision+recall+K.epsilon()))\n",
    "\n",
    "model.compile(optimizer='adam',\n",
    "              loss=tf.keras.losses.CategoricalCrossentropy(from_logits=True),\n",
    "              metrics=['acc',f1_m,precision_m, recall_m])\n",
    "\n",
    "history = model.fit(X_train_data, Y_train_labels, epochs=10, validation_split = 0.2)"
   ]
  },
  {
   "cell_type": "code",
   "execution_count": 9,
   "id": "612602d4-66a7-408f-88e9-a4b692b8a72a",
   "metadata": {},
   "outputs": [
    {
     "data": {
      "image/png": "[encoded data removed]",
      "text/plain": [
       "<Figure size 432x288 with 1 Axes>"
      ]
     },
     "metadata": {
      "needs_background": "light"
     },
     "output_type": "display_data"
    }
   ],
   "source": [
    "plt.plot(history.history['acc'])\n",
    "plt.plot(history.history['val_acc'])\n",
    "plt.title('Model accuracy')\n",
    "plt.ylabel('accuracy')\n",
    "plt.xlabel('epoch')\n",
    "plt.legend(['train', 'val'], loc='upper left')\n",
    "#plt.show()\n",
    "plt.savefig('acc_A0203.png', dpi=300)"
   ]
  },
  {
   "cell_type": "code",
   "execution_count": 11,
   "id": "dfca1a83-0772-4f91-a854-a673c9c4915d",
   "metadata": {},
   "outputs": [
    {
     "name": "stdout",
     "output_type": "stream",
     "text": [
      "0.16372378170490265 0.9800000190734863 0.9681751132011414 0.9889212250709534 0.9515141844749451\n"
     ]
    }
   ],
   "source": [
    "loss, accuracy, f1_score, precision, recall = model.evaluate(X_test_data, Y_test_labels, verbose=0)\n",
    "print(loss, accuracy, f1_score, precision, recall)"
   ]
  },
  {
   "cell_type": "code",
   "execution_count": null,
   "id": "c2647247-6ac3-4b1d-bc1c-645e59725731",
   "metadata": {},
   "outputs": [],
   "source": []
  }
 ],
 "metadata": {
  "kernelspec": {
   "display_name": "Python 3 (ipykernel)",
   "language": "python",
   "name": "python3"
  },
  "language_info": {
   "codemirror_mode": {
    "name": "ipython",
    "version": 3
   },
   "file_extension": ".py",
   "mimetype": "text/x-python",
   "name": "python",
   "nbconvert_exporter": "python",
   "pygments_lexer": "ipython3",
   "version": "3.8.12"
  }
 },
 "nbformat": 4,
 "nbformat_minor": 5
}
