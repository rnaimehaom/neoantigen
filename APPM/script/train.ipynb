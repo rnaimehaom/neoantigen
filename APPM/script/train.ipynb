{
 "cells": [
  {
   "cell_type": "code",
   "execution_count": 1,
   "id": "6e14ff64-edf3-49fb-96af-6deae5540300",
   "metadata": {},
   "outputs": [
    {
     "name": "stdout",
     "output_type": "stream",
     "text": [
      "Tensorflow version 2.7.0\n",
      "Num GPUs Available:  1\n",
      "Test set is  A0101__\n"
     ]
    },
    {
     "name": "stderr",
     "output_type": "stream",
     "text": [
      "2022-03-19 21:26:00.175585: I tensorflow/stream_executor/cuda/cuda_gpu_executor.cc:939] successful NUMA node read from SysFS had negative value (-1), but there must be at least one NUMA node, so returning NUMA node zero\n",
      "2022-03-19 21:26:00.203371: I tensorflow/stream_executor/cuda/cuda_gpu_executor.cc:939] successful NUMA node read from SysFS had negative value (-1), but there must be at least one NUMA node, so returning NUMA node zero\n",
      "2022-03-19 21:26:00.203470: I tensorflow/stream_executor/cuda/cuda_gpu_executor.cc:939] successful NUMA node read from SysFS had negative value (-1), but there must be at least one NUMA node, so returning NUMA node zero\n"
     ]
    }
   ],
   "source": [
    "from __future__ import division, print_function, absolute_import\n",
    "import tensorflow as tf\n",
    "import numpy as np\n",
    "import pandas as pd\n",
    "import random as rnd\n",
    "import math, os, time, sys, re, datetime\n",
    "from datetime import timedelta\n",
    "from sklearn.metrics import roc_auc_score, roc_curve, auc\n",
    "from scipy import stats\n",
    "\n",
    "print(\"Tensorflow version \" + tf.__version__)\n",
    "print(\"Num GPUs Available: \", len(tf.config.list_physical_devices('GPU')))\n",
    "\n",
    "#testset = 'A0202'\n",
    "#INPUTS: python DLMHC.py 0 A0202\n",
    "#testset = sys.argv[2] # e.g. takes A0202 as input allele name\n",
    "testset = \"A0101__\"\n",
    "\n",
    "print(\"Test set is \", testset)\n",
    "runindx = 0 \n",
    "\n",
    "###all the possible sequence letters\n",
    "allSequences = 'ACEDGFIHKMLNQPSRTWVYZ'\n",
    "# Establish a mapping from letters to integers\n",
    "char2int = dict((c, i) for i, c in enumerate(allSequences))"
   ]
  },
  {
   "cell_type": "code",
   "execution_count": 2,
   "id": "b9f78aee-9908-476e-86c3-5c2effea81e8",
   "metadata": {},
   "outputs": [],
   "source": [
    "def getdata_onehot(datafile):   #build testing matrix\n",
    "    ### READ in test dataset\n",
    "    \"\"\" Reads the test data file and extracts allele subtype,\n",
    "            peptide length, and measurement type. Returns these information\n",
    "            along with the peptide sequence and target values.\n",
    "    \"\"\"\n",
    "    #train数据载入\n",
    "    import os\n",
    "    traindata = os.path.join(\"./../DATA\", \"train_data\", datafile )\n",
    "    print(\"traindata name: \", traindata)\n",
    "    df_train = pd.read_csv(traindata, header=0)\n",
    "    df_train = df_train[df_train.Peptide.str.contains('X') == False]\n",
    "    df_train = df_train[df_train.Peptide.str.contains('B') == False]\n",
    "    df_train = df_train[df_train.Peptide.str.contains('U') == False]\n",
    "    #eg.df_train = pd.read_csv('./DATA/train_data/A0202',sep=\"\\t\")\n",
    "    \n",
    "    #下采样\n",
    "    new_df_0 = df_train.loc[df_train['BindingCategory']== 0].sample(frac = 1)\n",
    "    #上采样\n",
    "    df_1_list = []\n",
    "    for i in range(4):\n",
    "        df_1_list.append(df_train.loc[df_train['BindingCategory']== 1])\n",
    "        new_df_1 = pd.concat(df_1_list)\n",
    "    new_df_train = pd.concat([new_df_0,new_df_1])\n",
    "    new_df_train = new_df_train.sample(frac = 1.0) #shuffle\n",
    "\n",
    "\n",
    "    #X_train--补齐11mer--one_hot_matrix\n",
    "    train_data=transformEL(new_df_train)\n",
    "    trainMatrix = np.empty((0, 11,len(allSequences)), int)      \n",
    "    for num in range(len(train_data.Peptide)):\n",
    "        if num%1000 == 0:\n",
    "            print(train_data.Peptide.iloc[num],num)\n",
    "        trainMatrix = np.append(trainMatrix, [Pept_OneHotMap(train_data.Peptide.iloc[num])], axis=0)\n",
    "    allele_name = train_data['HLA'][0]\n",
    "    assert (trainMatrix.shape[0] == train_data.shape[0])\n",
    "\n",
    "    #test数据载入\n",
    "    testdata = os.path.join(\"./../DATA\", \"test_data\", datafile )\n",
    "    df_test = pd.read_csv(testdata, header=0)\n",
    "    df_test = df_test[df_test.Peptide.str.contains('X') == False]\n",
    "    df_test = df_test[df_test.Peptide.str.contains('B') == False]\n",
    "    df_test = df_test[df_test.Peptide.str.contains('U') == False]\n",
    "    #eg.df_test = pd.read_csv('./DATA/test_data/A0202',sep=\"\\t\")\n",
    "\n",
    "    #X_test--补齐11mer--one_hot_matrix\n",
    "    test_data=transformEL(df_test)\n",
    "    testMatrix = np.empty((0, 11,len(allSequences)), int)      \n",
    "    for num in range(len(test_data.Peptide)):\n",
    "        if num%1000 == 0:\n",
    "            print(test_data.Peptide.iloc[num],num)\n",
    "        testMatrix = np.append(testMatrix, [Pept_OneHotMap(test_data.Peptide.iloc[num])], axis=0)\n",
    "    assert (testMatrix.shape[0] == test_data.shape[0])\n",
    "\n",
    "    Y_train = train_data.BindingCategory\n",
    "    Y_test = test_data.BindingCategory \n",
    "    #\n",
    "    Y_train = Y_train.reset_index(drop=True)\n",
    "    Y_test = Y_test.reset_index(drop=True)\n",
    "    #\n",
    "    trainlen = len(trainMatrix)\n",
    "    ss1 = list(range(trainlen))\n",
    "    rnd.shuffle(ss1)    #\n",
    "    \n",
    "    # combine training and test datasets\n",
    "    datasets={}\n",
    "    datasets['X_train'] = trainMatrix\n",
    "    datasets['Y_train'] = Y_train.values #traindata.BindingCategory.as_matrix()\n",
    "    datasets['X_test'] = testMatrix\n",
    "    datasets['Y_test'] = Y_test.values    \n",
    "\n",
    "    return datasets\n",
    "\n",
    "def Pept_OneHotMap(peptideSeq):\n",
    "    \"\"\" maps amino acid into its numerical index\n",
    "    USAGE\n",
    "    Pept_OneHotMap('A')\n",
    "    array([[1, 0, 0, 0, 0, 0, 0, 0, 0, 0, 0, 0, 0, 0, 0, 0, 0, 0, 0, 0, 0]])\n",
    "    \"\"\"\n",
    "    # integer encode input data\n",
    "    integer_encoded=[char2int[char] for char in peptideSeq]\n",
    "    # one hot encode\n",
    "    onehot_encoded = list()\n",
    "    for value in integer_encoded:\n",
    "    \tletter = [0 for _ in range(len(allSequences))]\n",
    "    \tletter[value] = 1\n",
    "    \tonehot_encoded.append(letter)\n",
    "    return np.asarray(onehot_encoded)\n",
    "\n",
    "def transformEL(dataset):\n",
    "    dataset = dataset.reset_index(drop=True)\n",
    "    peptide=dataset.Peptide\n",
    "    peptide2list=peptide.tolist()\n",
    "    for i in range(len(peptide)):\n",
    "        if len(peptide2list[i]) < 11:\n",
    "            n1 = len(peptide2list[i]) // 2\n",
    "            n2 = 11 - len(peptide2list[i])\n",
    "            peptide2list[i] = peptide2list[i][:n1] + 'Z'*n2 + peptide2list[i][n1:]     #将小于11个氨基酸的peptide在中间插空补齐\n",
    "        else:\n",
    "            peptide2list[i] = peptide2list[i][:11]\n",
    "\n",
    "    del dataset['Peptide']\n",
    "    peptides = pd.DataFrame(peptide2list,columns=['Peptide'])\n",
    "    dataset.insert(0,'Peptide',peptides.pop('Peptide'))\n",
    "    return dataset\n",
    "\n",
    "def binary2onehot(yy):\n",
    "    yy2= np.zeros((len(yy),2), dtype=int) #yy2.shape #(10547, 2)\n",
    "    for num in range(len(yy)):\n",
    "        if yy[num]==1:\n",
    "            yy2[num,0]=1\n",
    "        else:\n",
    "            yy2[num,1]=1\n",
    "    return yy2"
   ]
  },
  {
   "cell_type": "code",
   "execution_count": 3,
   "id": "64548298-9183-41a6-bb0c-9e9fb609a0be",
   "metadata": {},
   "outputs": [
    {
     "name": "stdout",
     "output_type": "stream",
     "text": [
      "traindata name:  ./../DATA/train_data/A0101__\n",
      "LLSTZZYLERY 0\n",
      "ATTISSSSLYV 1000\n",
      "EIDIZZLRTLY 2000\n",
      "TTEIZZETLLL 0\n",
      "QMVEILTEENR 1000\n"
     ]
    }
   ],
   "source": [
    "data=getdata_onehot(datafile=testset)"
   ]
  },
  {
   "cell_type": "code",
   "execution_count": 4,
   "id": "a60e157b-63b0-4cf2-a529-32a74b0042e9",
   "metadata": {},
   "outputs": [
    {
     "name": "stdout",
     "output_type": "stream",
     "text": [
      "X_Train size  (3000, 11, 21)\n",
      "Y_Train size  (3000,)\n",
      "Train data value=1  2000\n",
      "X_Test size  (2000, 11, 21)\n",
      "Y_Test size  (2000,)\n",
      "Test data value=1  300\n"
     ]
    }
   ],
   "source": [
    "shuffle_ = np.arange(len(data['Y_train']))\n",
    "np.random.shuffle(shuffle_)\n",
    "data['Y_train']=data['Y_train'][shuffle_]\n",
    "data['X_train']=data['X_train'][shuffle_]\n",
    "\n",
    "print(\"X_Train size \", data['X_train'].shape)\n",
    "print(\"Y_Train size \", data['Y_train'].shape)\n",
    "print(\"Train data value=1 \", np.sum(data['Y_train']==1))\n",
    "print(\"X_Test size \" , data['X_test'].shape)\n",
    "print(\"Y_Test size \" , data['Y_test'].shape)\n",
    "print(\"Test data value=1 \", np.sum(data['Y_test']==1))\n",
    "\n",
    "\n",
    "Y_train_labels = binary2onehot(data['Y_train']) # binary output converted into two classes\n",
    "Y_test_labels = binary2onehot(data['Y_test'])\n",
    "X_train_data = data['X_train']  #already one hot encoded\n",
    "X_test_data = data['X_test']"
   ]
  },
  {
   "cell_type": "code",
   "execution_count": 26,
   "id": "49ff0459-3fd6-4a54-b938-66067458ed42",
   "metadata": {},
   "outputs": [
    {
     "name": "stdout",
     "output_type": "stream",
     "text": [
      "X_Train size  (38630, 11, 21)\n",
      "Y_Train size  (38630, 2)\n",
      "X_Test size  (6199, 11, 21)\n",
      "Y_Test size  (6199, 2) \n",
      "\n"
     ]
    }
   ],
   "source": [
    "# save proceed data to txt\n",
    "print(\"X_Train size \", X_train_data.shape)\n",
    "print(\"Y_Train size \", Y_train_labels.shape)\n",
    "print(\"X_Test size \" , X_test_data.shape)\n",
    "print(\"Y_Test size \" , Y_test_labels.shape, \"\\n\")\n",
    "\n",
    "X_train_data_reshape = X_train_data.reshape(X_train_data.shape[0], -1)\n",
    "X_test_data_reshape = X_test_data.reshape(X_test_data.shape[0], -1)\n",
    "np.savetxt(\"data_train.txt\", X_train_data_reshape, fmt='%i')\n",
    "np.savetxt(\"data_test.txt\", X_test_data_reshape, fmt='%i')\n",
    "\n",
    "np.savetxt(\"data_train_labels.txt\", Y_train_labels, fmt='%i')\n",
    "np.savetxt(\"data_test_labels.txt\", Y_test_labels, fmt='%i')\n",
    "\n"
   ]
  },
  {
   "cell_type": "code",
   "execution_count": 27,
   "id": "1ec6f13a-3c5c-4e21-a196-92580bced8ab",
   "metadata": {},
   "outputs": [
    {
     "name": "stdout",
     "output_type": "stream",
     "text": [
      "X_Train size  (38630, 11, 21)\n",
      "Y_Train size  (38630, 2)\n",
      "X_Test size  (6199, 11, 21)\n",
      "Y_Test size  (6199, 2)\n",
      "finish loading\n"
     ]
    }
   ],
   "source": [
    "# from txt to numpy\n",
    "X_train_data = np.loadtxt(\"data_train.txt\")\n",
    "X_train_data = X_train_data.reshape(X_train_data.shape[0], 11, 21)\n",
    "X_test_data = np.loadtxt(\"data_test.txt\")\n",
    "X_test_data = X_test_data.reshape(X_test_data.shape[0], 11, 21)\n",
    "Y_train_labels = np.loadtxt(\"data_train_labels.txt\")\n",
    "Y_test_labels = np.loadtxt(\"data_test_labels.txt\")\n",
    "\n",
    "print(\"X_Train size \", X_train_data.shape)\n",
    "print(\"Y_Train size \", Y_train_labels.shape)\n",
    "print(\"X_Test size \" , X_test_data.shape)\n",
    "print(\"Y_Test size \" , Y_test_labels.shape)\n",
    "\n",
    "print (\"finish loading\")"
   ]
  },
  {
   "cell_type": "code",
   "execution_count": null,
   "id": "48800208-5f64-4355-a6b3-f0b1447da884",
   "metadata": {},
   "outputs": [],
   "source": []
  },
  {
   "cell_type": "code",
   "execution_count": null,
   "id": "fe9e8391-99ed-4496-98d2-28131421c89e",
   "metadata": {},
   "outputs": [],
   "source": [
    "from tensorflow.keras import datasets, layers, models\n",
    "import matplotlib.pyplot as plt\n",
    "\n",
    "# simple model\n",
    "model = models.Sequential()\n",
    "model.add(layers.Conv2D(32, (2, 2), activation='relu', input_shape=(11, 21, 1)))\n",
    "model.add(layers.Conv2D(64, (2, 2), activation='relu'))\n",
    "#model.add(layers.MaxPooling2D((2, 2)))\n",
    "model.add(layers.Conv2D(64, (2, 2), activation='relu'))\n",
    "\n",
    "model.add(layers.Flatten())\n",
    "model.add(layers.Dense(64, activation='relu'))\n",
    "model.add(layers.Dense(2))\n",
    "model.summary()\n",
    "\n",
    "#import visualkeras\n",
    "#visualkeras.layered_view(model, to_file='output.png').show() # write and show"
   ]
  },
  {
   "cell_type": "code",
   "execution_count": 29,
   "id": "7c7124fb-1ccb-4737-9964-5806e5973940",
   "metadata": {},
   "outputs": [
    {
     "name": "stdout",
     "output_type": "stream",
     "text": [
      "Epoch 1/10\n",
      "966/966 [==============================] - 3s 2ms/step - loss: 0.0691 - acc: 0.9786 - f1_m: 0.9601 - precision_m: 0.9893 - recall_m: 0.9348 - val_loss: 0.0404 - val_acc: 0.9900 - val_f1_m: 0.9797 - val_precision_m: 0.9954 - val_recall_m: 0.9650\n",
      "Epoch 2/10\n",
      "966/966 [==============================] - 2s 2ms/step - loss: 0.0402 - acc: 0.9891 - f1_m: 0.9760 - precision_m: 0.9961 - recall_m: 0.9573 - val_loss: 0.0391 - val_acc: 0.9894 - val_f1_m: 0.9750 - val_precision_m: 0.9965 - val_recall_m: 0.9550\n",
      "Epoch 3/10\n",
      "966/966 [==============================] - 2s 2ms/step - loss: 0.0310 - acc: 0.9916 - f1_m: 0.9791 - precision_m: 0.9969 - recall_m: 0.9625 - val_loss: 0.0381 - val_acc: 0.9887 - val_f1_m: 0.9715 - val_precision_m: 0.9973 - val_recall_m: 0.9478\n",
      "Epoch 4/10\n",
      "966/966 [==============================] - 2s 2ms/step - loss: 0.0200 - acc: 0.9936 - f1_m: 0.9828 - precision_m: 0.9978 - recall_m: 0.9686 - val_loss: 0.0294 - val_acc: 0.9922 - val_f1_m: 0.9826 - val_precision_m: 0.9962 - val_recall_m: 0.9698\n",
      "Epoch 5/10\n",
      "966/966 [==============================] - 2s 2ms/step - loss: 0.0114 - acc: 0.9964 - f1_m: 0.9881 - precision_m: 0.9988 - recall_m: 0.9779 - val_loss: 0.0278 - val_acc: 0.9921 - val_f1_m: 0.9824 - val_precision_m: 0.9952 - val_recall_m: 0.9703\n",
      "Epoch 6/10\n",
      "966/966 [==============================] - 2s 2ms/step - loss: 0.0069 - acc: 0.9978 - f1_m: 0.9910 - precision_m: 0.9988 - recall_m: 0.9837 - val_loss: 0.0219 - val_acc: 0.9940 - val_f1_m: 0.9873 - val_precision_m: 0.9963 - val_recall_m: 0.9788\n",
      "Epoch 7/10\n",
      "966/966 [==============================] - 2s 2ms/step - loss: 0.0043 - acc: 0.9985 - f1_m: 0.9927 - precision_m: 0.9992 - recall_m: 0.9866 - val_loss: 0.0406 - val_acc: 0.9911 - val_f1_m: 0.9850 - val_precision_m: 0.9947 - val_recall_m: 0.9757\n",
      "Epoch 8/10\n",
      "966/966 [==============================] - 2s 2ms/step - loss: 0.0033 - acc: 0.9990 - f1_m: 0.9948 - precision_m: 0.9992 - recall_m: 0.9907 - val_loss: 0.0515 - val_acc: 0.9920 - val_f1_m: 0.9877 - val_precision_m: 0.9941 - val_recall_m: 0.9817\n",
      "Epoch 9/10\n",
      "966/966 [==============================] - 2s 2ms/step - loss: 0.0049 - acc: 0.9983 - f1_m: 0.9935 - precision_m: 0.9992 - recall_m: 0.9880 - val_loss: 0.0261 - val_acc: 0.9942 - val_f1_m: 0.9894 - val_precision_m: 0.9964 - val_recall_m: 0.9828\n",
      "Epoch 10/10\n",
      "966/966 [==============================] - 2s 2ms/step - loss: 7.1247e-04 - acc: 0.9998 - f1_m: 0.9956 - precision_m: 0.9996 - recall_m: 0.9917 - val_loss: 0.0280 - val_acc: 0.9952 - val_f1_m: 0.9907 - val_precision_m: 0.9967 - val_recall_m: 0.9849\n"
     ]
    }
   ],
   "source": [
    "from keras import backend as K\n",
    "\n",
    "def recall_m(y_true, y_pred):\n",
    "    true_positives = K.sum(K.round(K.clip(y_true * y_pred, 0, 1)))\n",
    "    possible_positives = K.sum(K.round(K.clip(y_true, 0, 1)))\n",
    "    recall = true_positives / (possible_positives + K.epsilon())\n",
    "    return recall\n",
    "\n",
    "def precision_m(y_true, y_pred):\n",
    "    true_positives = K.sum(K.round(K.clip(y_true * y_pred, 0, 1)))\n",
    "    predicted_positives = K.sum(K.round(K.clip(y_pred, 0, 1)))\n",
    "    precision = true_positives / (predicted_positives + K.epsilon())\n",
    "    return precision\n",
    "\n",
    "def f1_m(y_true, y_pred):\n",
    "    precision = precision_m(y_true, y_pred)\n",
    "    recall = recall_m(y_true, y_pred)\n",
    "    return 2*((precision*recall)/(precision+recall+K.epsilon()))\n",
    "\n",
    "model.compile(optimizer='adam',\n",
    "              loss=tf.keras.losses.CategoricalCrossentropy(from_logits=True),\n",
    "              metrics=['acc',f1_m,precision_m, recall_m])\n",
    "\n",
    "history = model.fit(X_train_data, Y_train_labels, epochs=10, validation_split = 0.2)"
   ]
  },
  {
   "cell_type": "code",
   "execution_count": 30,
   "id": "612602d4-66a7-408f-88e9-a4b692b8a72a",
   "metadata": {},
   "outputs": [
    {
     "data": {
      "image/png": "[encoded data removed]",
      "text/plain": [
       "<Figure size 432x288 with 1 Axes>"
      ]
     },
     "metadata": {
      "needs_background": "light"
     },
     "output_type": "display_data"
    }
   ],
   "source": [
    "plt.plot(history.history['acc'])\n",
    "plt.plot(history.history['val_acc'])\n",
    "plt.title('Model accuracy')\n",
    "plt.ylabel('accuracy')\n",
    "plt.xlabel('epoch')\n",
    "plt.legend(['train', 'val'], loc='upper left')\n",
    "#plt.show()\n",
    "plt.savefig('acc_B4403.png', dpi=300)"
   ]
  },
  {
   "cell_type": "code",
   "execution_count": 32,
   "id": "dfca1a83-0772-4f91-a854-a673c9c4915d",
   "metadata": {},
   "outputs": [
    {
     "name": "stdout",
     "output_type": "stream",
     "text": [
      "0.05531679093837738 0.992418110370636 0.9875325560569763 0.9945122599601746 0.9809922575950623\n"
     ]
    }
   ],
   "source": [
    "loss, accuracy, f1_score, precision, recall = model.evaluate(X_test_data, Y_test_labels, verbose=0)\n",
    "print(loss, accuracy, f1_score, precision, recall)"
   ]
  },
  {
   "cell_type": "code",
   "execution_count": null,
   "id": "c2647247-6ac3-4b1d-bc1c-645e59725731",
   "metadata": {},
   "outputs": [],
   "source": []
  }
 ],
 "metadata": {
  "kernelspec": {
   "display_name": "Python 3 (ipykernel)",
   "language": "python",
   "name": "python3"
  },
  "language_info": {
   "codemirror_mode": {
    "name": "ipython",
    "version": 3
   },
   "file_extension": ".py",
   "mimetype": "text/x-python",
   "name": "python",
   "nbconvert_exporter": "python",
   "pygments_lexer": "ipython3",
   "version": "3.8.12"
  }
 },
 "nbformat": 4,
 "nbformat_minor": 5
}
